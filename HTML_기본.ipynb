{
  "nbformat": 4,
  "nbformat_minor": 0,
  "metadata": {
    "colab": {
      "name": "HTML 기본.ipynb",
      "provenance": [],
      "authorship_tag": "ABX9TyNfqn4bRqmsDCipZCc2Z6od",
      "include_colab_link": true
    },
    "kernelspec": {
      "name": "python3",
      "display_name": "Python 3"
    },
    "language_info": {
      "name": "python"
    }
  },
  "cells": [
    {
      "cell_type": "markdown",
      "metadata": {
        "id": "view-in-github",
        "colab_type": "text"
      },
      "source": [
        "<a href=\"https://colab.research.google.com/github/donkeyson/HTML_study/blob/main/HTML_%EA%B8%B0%EB%B3%B8.ipynb\" target=\"_parent\"><img src=\"https://colab.research.google.com/assets/colab-badge.svg\" alt=\"Open In Colab\"/></a>"
      ]
    },
    {
      "cell_type": "code",
      "source": [
        "#<p>는 문단을 구분한다는 의미 \n",
        "#<p>내 고양이는 고약해</p>"
      ],
      "metadata": {
        "id": "xGLLZJrC88vm"
      },
      "execution_count": null,
      "outputs": []
    },
    {
      "cell_type": "markdown",
      "source": [
        "<p>내 고양이는 고약해</p>\n",
        "너는?"
      ],
      "metadata": {
        "id": "WotR3RpO8wUt"
      }
    },
    {
      "cell_type": "code",
      "source": [
        "#이때 <p>는 여는 태그(opening tag)\n",
        "#</p>는 닫는 태그(closing tag)\n",
        "#'내 고양이는 고약해'는 콘텐츠(content)\n",
        "#전체 문장은 요소(element)"
      ],
      "metadata": {
        "id": "TQmEmg_y9Tmc"
      },
      "execution_count": null,
      "outputs": []
    },
    {
      "cell_type": "markdown",
      "source": [
        "<p class='editor-note'>내 고양이는 고약해</p>\n",
        "너는?"
      ],
      "metadata": {
        "id": "ow9rQuyk9scx"
      }
    },
    {
      "cell_type": "code",
      "source": [
        "#<p class='editor-note'>내 고양이는 고약해</p>\n",
        "#class='editor-note'는 속성(Attribute)"
      ],
      "metadata": {
        "id": "BAwdeYQ99pqB"
      },
      "execution_count": null,
      "outputs": []
    },
    {
      "cell_type": "markdown",
      "source": [
        "1. 요소 이름과 속성 사이에 공백이 있어야 한다.\n",
        "2. 속성 이름 뒤에는 등호(=)가 와햐 한다.\n",
        "3. 속성 값의 앞 뒤에 열고 다는 인용부호가 있어야 한다."
      ],
      "metadata": {
        "id": "Gzt9HZxo-J9I"
      }
    },
    {
      "cell_type": "markdown",
      "source": [
        "# **요소중첩**"
      ],
      "metadata": {
        "id": "CqvolZ-T-aOc"
      }
    },
    {
      "cell_type": "markdown",
      "source": [
        "<p>내 고양이는 <strong>아주</strong> 고약해.</p>"
      ],
      "metadata": {
        "id": "CS5BKG3K-hrb"
      }
    },
    {
      "cell_type": "code",
      "source": [
        "#<p>내 고양이는 <strong>아주</strong> 고약해.</p>\n",
        "#이처럼 요소 안에 요소를 넣을 수 있다.\n",
        "#<strong>태그로 감싼 '아주'를 강조하는 문장"
      ],
      "metadata": {
        "id": "MVFzbFqd-pyz"
      },
      "execution_count": null,
      "outputs": []
    },
    {
      "cell_type": "markdown",
      "source": [
        "# **빈 요소**"
      ],
      "metadata": {
        "id": "tyavUS4p_WZv"
      }
    },
    {
      "cell_type": "markdown",
      "source": [
        "<img src='images/firefox-icon.png' alt='my test image'>"
      ],
      "metadata": {
        "id": "vplN-I0y-7BV"
      }
    },
    {
      "cell_type": "code",
      "source": [
        "#<img src='images/firefox-icon.png' alt='my test image'>\n",
        "#빈 요소(empty elements)는 내용을 갖지 않다.\n",
        "#이 문장은 두 개의 속성을 포함하나 닫는 태그(</img>)가 없다."
      ],
      "metadata": {
        "id": "9rB7ZVtO_Bgy"
      },
      "execution_count": null,
      "outputs": []
    },
    {
      "cell_type": "markdown",
      "source": [
        "# **HTML 문서 해부**"
      ],
      "metadata": {
        "id": "SbOqFKkq_ew9"
      }
    },
    {
      "cell_type": "markdown",
      "source": [
        "<!DOCTYPE html>\n",
        "<html>\n",
        "  <head>\n",
        "    <meta charset='utf-8'>\n",
        "    <title>My test page</title>\n",
        "  </head>\n",
        "  <body>\n",
        "    <img src='imges/firefox-icon.png' alt='my test image'>\n",
        "  </body>\n",
        "</html>"
      ],
      "metadata": {
        "id": "xFppo8dj_meT"
      }
    },
    {
      "cell_type": "code",
      "source": [
        "# <!DOCTYPE html>\n",
        "# <html>\n",
        "#   <head>\n",
        "#     <meta charset=\"utf-8\">\n",
        "#     <title>My test page</title>\n",
        "#   </head>\n",
        "#   <body>\n",
        "#     <img src=\"images/firefox-icon.png\" alt=\"My test image\">\n",
        "#   </body>\n",
        "# </html>"
      ],
      "metadata": {
        "id": "_s82hFzL_id8"
      },
      "execution_count": null,
      "outputs": []
    },
    {
      "cell_type": "code",
      "source": [
        "# <!DOCTYPE html> = doctype. 오류 확인, 올바르게 동작하기 위해 실행\n",
        "\n",
        "# <html></html> = <html>요소. 페이지 전체를 감싼다. 루트(root) 요소라고도 부른다.\n",
        "\n",
        "# <head></head> = <head>요소. 사람들에게 보여주지 않는 컨텐츠. 페이지 설명, CSS 등\n",
        "\n",
        "# <body></body> = <body>요소. 웹 방문자에게 보여주길 원하는 컨텐츠.\n",
        "\n",
        "# <meta charset='utf=8'> = 문서가 사용할 문자 집합을 utf-8로 설정.\n",
        "\n",
        "# <title></title> = <title>요소. 페이지 제목 설정. 브라우저 탭에 제목이 표시됨."
      ],
      "metadata": {
        "id": "6QgUIgYlBeT6"
      },
      "execution_count": null,
      "outputs": []
    },
    {
      "cell_type": "markdown",
      "source": [
        "# **이미지**"
      ],
      "metadata": {
        "id": "2XkwbG0lCnGG"
      }
    },
    {
      "cell_type": "markdown",
      "source": [
        "<img src=\"images/firefox-icon.png\" alt=\"My test image\">"
      ],
      "metadata": {
        "id": "pUDrcoMFCvVV"
      }
    },
    {
      "cell_type": "code",
      "source": [
        "# <img src=\"images/firefox-icon.png\" alt=\"My test image\">\n",
        "\n",
        "src(source) 속성은 이미지가 나타나야할 위치에 이미지를 끼워 넣음. 파일 경로도 포함.\n",
        "\n",
        "alt(alternative) 속성은 이미지를 볼 수 없는 사용자들을 위한 설명문을 제공"
      ],
      "metadata": {
        "id": "gIzhiVerCw_p"
      },
      "execution_count": null,
      "outputs": []
    },
    {
      "cell_type": "markdown",
      "source": [
        "1. 시각 장애자 < alt 텍스트를 읽어주는 스크린 리더라는 도구 이용\n",
        "\n",
        "2. 문제가 생겨 이미지를 표시할 수 없을 경우 대신 alt 속성 설명문을 표기 "
      ],
      "metadata": {
        "id": "7NEBQ8v2DRpI"
      }
    },
    {
      "cell_type": "markdown",
      "source": [
        "# **문자 나타내기**"
      ],
      "metadata": {
        "id": "_hvV8ePeDrAa"
      }
    },
    {
      "cell_type": "markdown",
      "source": [
        "# **제목**"
      ],
      "metadata": {
        "id": "WC5AYpZhDxkr"
      }
    },
    {
      "cell_type": "markdown",
      "source": [
        "<h1>My main title</h1>\n",
        "<h2>My top level heading</h2>\n",
        "<h3>My subheading</h3>\n",
        "<h4>My sub-subheading</h4>"
      ],
      "metadata": {
        "id": "RtermzuWD3CC"
      }
    },
    {
      "cell_type": "code",
      "source": [
        "# <h1>My main title</h1>\n",
        "# <h2>My top level heading</h2>\n",
        "# <h3>My subheading</h3>\n",
        "# <h4>My sub-subheading</h4>"
      ],
      "metadata": {
        "id": "yi1oyPa_EIry"
      },
      "execution_count": null,
      "outputs": []
    },
    {
      "cell_type": "markdown",
      "source": [
        "# **문단**"
      ],
      "metadata": {
        "id": "G78eZ0eHENdl"
      }
    },
    {
      "cell_type": "markdown",
      "source": [
        "<p>This is a single paragraph</p>"
      ],
      "metadata": {
        "id": "12zBM4ZxEGmK"
      }
    },
    {
      "cell_type": "code",
      "source": [
        "# <p>This is a single paragraph</p>"
      ],
      "metadata": {
        "id": "7aQVL7GQEWHa"
      },
      "execution_count": null,
      "outputs": []
    },
    {
      "cell_type": "markdown",
      "source": [
        "# **목록**"
      ],
      "metadata": {
        "id": "SUeHoe8wEZP-"
      }
    },
    {
      "cell_type": "markdown",
      "source": [
        "1. 목록은 순서와 관계 없다. \n",
        "\n",
        "2. 리스트는 순서와 중요하다."
      ],
      "metadata": {
        "id": "0wYUoYx6EcIt"
      }
    },
    {
      "cell_type": "code",
      "source": [
        "#<p>At Mozilla, we’re a global community of technologists, thinkers, and builders working together ... </p>"
      ],
      "metadata": {
        "id": "Lq6njK4_Ewgb"
      },
      "execution_count": null,
      "outputs": []
    },
    {
      "cell_type": "markdown",
      "source": [
        "이 문장은 너무 길다"
      ],
      "metadata": {
        "id": "X24VAvn6E3VT"
      }
    },
    {
      "cell_type": "code",
      "source": [
        "# <p>At Mozilla, we’re a global community of</p>\n",
        "\n",
        "# <ul>\n",
        "#   <li>technologists</li>\n",
        "#   <li>thinkers</li>\n",
        "#   <li>builders</li>\n",
        "# </ul>\n",
        "\n",
        "# <p>working together ... </p>"
      ],
      "metadata": {
        "id": "oIpzq-DQFAXm"
      },
      "execution_count": null,
      "outputs": []
    },
    {
      "cell_type": "markdown",
      "source": [
        "<p>At Mozilla, we’re a global community of</p>\n",
        "\n",
        "<ul>\n",
        "  <li>technologists</li>\n",
        "  <li>thinkers</li>\n",
        "  <li>builders</li>\n",
        "</ul>\n",
        "\n",
        "<p>working together ... </p>"
      ],
      "metadata": {
        "id": "DVHKIooGE7Ed"
      }
    },
    {
      "cell_type": "markdown",
      "source": [
        "요로콤 표현하면 깔끔하게 정리된다. \n",
        "li로 묶은 애들은 순서대로 정리된다."
      ],
      "metadata": {
        "id": "RETHDas_FWzc"
      }
    },
    {
      "cell_type": "markdown",
      "source": [
        "# **연결**"
      ],
      "metadata": {
        "id": "PYBGSedVFcsB"
      }
    },
    {
      "cell_type": "markdown",
      "source": [
        "<a href=\"https://developer.mozilla.org/ko/docs/Learn/Getting_started_with_the_web/HTML_basics\">Mozilla Manifesto</a>"
      ],
      "metadata": {
        "id": "pNKT4B7sFuEf"
      }
    },
    {
      "cell_type": "markdown",
      "source": [
        "위 링크를 누르면 원하는 곳으로 이동하게 된다."
      ],
      "metadata": {
        "id": "e8ST5cLBF0mu"
      }
    },
    {
      "cell_type": "code",
      "source": [
        "# <a href=\"\">Mozilla Manifesto</a>\n",
        "\n",
        "# <a>요소로 감싼다. \n",
        "\n",
        "# href 속성으로 연결하길 원하는 웹 주소를 채운다.\n",
        "\n",
        "# Mozilla Manifeston를 누르면 원하는 주소로 이동한다."
      ],
      "metadata": {
        "id": "GVVdXr_5F21h"
      },
      "execution_count": null,
      "outputs": []
    }
  ]
}